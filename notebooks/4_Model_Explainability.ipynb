{
 "cells": [
  {
   "cell_type": "markdown",
   "metadata": {},
   "source": [
    "# Model Explainability for Fraud Detection\n",
    "\n",
    "This notebook explains the best-performing models for fraud detection using SHAP (SHapley Additive exPlanations)."
   ]
  },
  {
   "cell_type": "code",
   "execution_count": null,
   "metadata": {},
   "source": [
    "import pandas as pd\n",
    "import numpy as np\n",
    "import matplotlib.pyplot as plt\n",
    "import seaborn as sns\n",
    "import sys\n",
    "import os\n",
    "import joblib\n",
    "import shap\n",
    "\n",
    "# Add the src directory to the path\n",
    "sys.path.append(os.path.abspath('../src'))\n",
    "\n",
    "# Import custom modules\n",
    "from model import (\n",
    "    load_model, explain_model_with_shap,\n",
    "    plot_shap_summary, plot_shap_dependence\n",
    ")\n",
    "\n",
    "# Set plot style\n",
    "plt.style.use('seaborn-v0_8-whitegrid')\n",
    "sns.set_palette('viridis')\n",
    "\n",
    "# Display all columns\n",
    "pd.set_option('display.max_columns', None)"
   ]
  },
  {
   "cell_type": "markdown",
   "metadata": {},
   "source": [
    "## 1. Load the Models and Test Data"
   ]
  },
  {
   "cell_type": "code",
   "execution_count": null,
   "metadata": {},
   "source": [
    "# Load the best models\n",
    "xgb_fraud = load_model('xgb_fraud')\n",
    "xgb_cc = load_model('xgb_cc')\n",
    "\n",
    "# Load test data\n",
    "X_test_fraud = joblib.load('../data/processed/X_test_fraud.pkl')\n",
    "y_test_fraud = joblib.load('../data/processed/y_test_fraud.pkl')\n",
    "X_test_cc = joblib.load('../data/processed/X_test_cc.pkl')\n",
    "y_test_cc = joblib.load('../data/processed/y_test_cc.pkl')"
   ]
  },
  {
   "cell_type": "markdown",
   "metadata": {},
   "source": [
    "## 2. Explain the Fraud_Data Model"
   ]
  },
  {
   "cell_type": "code",
   "execution_count": null,
   "metadata": {},
   "source": [
    "# Calculate SHAP values for Fraud_Data model\n",
    "shap_values_fraud, explainer_fraud = explain_model_with_shap(xgb_fraud, X_test_fraud)\n",
    "\n",
    "# Plot SHAP summary\n",
    "plot_shap_summary(shap_values_fraud, X_test_fraud)"
   ]
  },
  {
   "cell_type": "code",
   "execution_count": null,
   "metadata": {},
   "source": [
    "# Get feature names\n",
    "feature_names_fraud = X_test_fraud.columns.tolist()\n",
    "\n",
    "# Get top 5 features by mean absolute SHAP value\n",
    "mean_shap_values_fraud = np.abs(shap_values_fraud).mean(axis=0)\n",
    "top_features_fraud = pd.DataFrame({\n",
    "    'Feature': feature_names_fraud,\n",
    "    'Mean |SHAP|': mean_shap_values_fraud\n",
    "}).sort_values('Mean |SHAP|', ascending=False).head(5)\n",
    "\n",
    "top_features_fraud"
   ]
  },
  {
   "cell_type": "code",
   "execution_count": null,
   "metadata": {},
   "source": [
    "# Plot SHAP dependence plots for top 3 features\n",
    "for feature in top_features_fraud['Feature'].head(3):\n",
    "    plot_shap_dependence(shap_values_fraud, X_test_fraud, feature)"
   ]
  },
  {
   "cell_type": "code",
   "execution_count": null,
   "metadata": {},
   "source": [
    "# Plot SHAP force plot for a sample of fraud cases\n",
    "fraud_indices = np.where(y_test_fraud == 1)[0][:5]  # Get indices of first 5 fraud cases\n",
    "if len(fraud_indices) > 0:\n",
    "    plt.figure(figsize=(20, 3 * len(fraud_indices)))\n",
    "    for i, idx in enumerate(fraud_indices):\n",
    "        plt.subplot(len(fraud_indices), 1, i + 1)\n",
    "        shap.force_plot(explainer_fraud.expected_value, \n",
    "                        shap_values_fraud[idx], \n",
    "                        X_test_fraud.iloc[idx],\n",
    "                        feature_names=feature_names_fraud,\n",
    "                        matplotlib=True,\n",
    "                        show=False)\n",
    "        plt.title(f\"Fraud Case {i+1}\")\n",
    "    plt.tight_layout()\n",
    "    plt.show()"
   ]
  },
  {
   "cell_type": "markdown",
   "metadata": {},
   "source": [
    "## 3. Explain the Creditcard Model"
   ]
  },
  {
   "cell_type": "code",
   "execution_count": null,
   "metadata": {},
   "source": [
    "# Calculate SHAP values for Creditcard model\n",
    "shap_values_cc, explainer_cc = explain_model_with_shap(xgb_cc, X_test_cc)\n",
    "\n",
    "# Plot SHAP summary\n",
    "plot_shap_summary(shap_values_cc, X_test_cc)"
   ]
  },
  {
   "cell_type": "code",
   "execution_count": null,
   "metadata": {},
   "source": [
    "# Get feature names\n",
    "feature_names_cc = X_test_cc.columns.tolist()\n",
    "\n",
    "# Get top 5 features by mean absolute SHAP value\n",
    "mean_shap_values_cc = np.abs(shap_values_cc).mean(axis=0)\n",
    "top_features_cc = pd.DataFrame({\n",
    "    'Feature': feature_names_cc,\n",
    "    'Mean |SHAP|': mean_shap_values_cc\n",
    "}).sort_values('Mean |SHAP|', ascending=False).head(5)\n",
    "\n",
    "top_features_cc"
   ]
  },
  {
   "cell_type": "code",
   "execution_count": null,
   "metadata": {},
   "source": [
    "# Plot SHAP dependence plots for top 3 features\n",
    "for feature in top_features_cc['Feature'].head(3):\n",
    "    plot_shap_dependence(shap_values_cc, X_test_cc, feature)"
   ]
  },
  {
   "cell_type": "code",
   "execution_count": null,
   "metadata": {},
   "source": [
    "# Plot SHAP force plot for a sample of fraud cases\n",
    "fraud_indices_cc = np.where(y_test_cc == 1)[0][:5]  # Get indices of first 5 fraud cases\n",
    "if len(fraud_indices_cc) > 0:\n",
    "    plt.figure(figsize=(20, 3 * len(fraud_indices_cc)))\n",
    "    for i, idx in enumerate(fraud_indices_cc):\n",
    "        plt.subplot(len(fraud_indices_cc), 1, i + 1)\n",
    "        shap.force_plot(explainer_cc.expected_value, \n",
    "                        shap_values_cc[idx], \n",
    "                        X_test_cc.iloc[idx],\n",
    "                        feature_names=feature_names_cc,\n",
    "                        matplotlib=True,\n",
    "                        show=False)\n",
    "        plt.title(f\"Fraud Case {i+1}\")\n",
    "    plt.tight_layout()\n",
    "    plt.show()"
   ]
  },
  {
   "cell_type": "markdown",
   "metadata": {},
   "source": [
    "## 4. Interpretation of SHAP Results\n",
    "\n",
    "### Fraud_Data Model\n",
    "\n",
    "[After running the notebook, provide interpretation of the SHAP results for the Fraud_Data model here]\n",
    "\n",
    "### Creditcard Model\n",
    "\n",
    "[After running the notebook, provide interpretation of the SHAP results for the Creditcard model here]"
   ]
  },
  {
   "cell_type": "markdown",
   "metadata": {},
   "source": [
    "## 5. Business Insights and Recommendations\n",
    "\n",
    "[After running the notebook, provide business insights and recommendations based on the model explanations here]"
   ]
  }
 ],
 "metadata": {
  "kernelspec": {
   "display_name": "Python 3",
   "language": "python",
   "name": "python3"
  },
  "language_info": {
   "codemirror_mode": {
    "name": "ipython",
    "version": 3
   },
   "file_extension": ".py",
   "mimetype": "text/x-python",
   "name": "python",
   "nbconvert_exporter": "python",
   "pygments_lexer": "ipython3",
   "version": "3.8.10"
  }
 },
 "nbformat": 4,
 "nbformat_minor": 4
}