{
 "cells": [
  {
   "cell_type": "markdown",
   "metadata": {},
   "source": [
    "# Complete Fraud Detection Pipeline Demo\n",
    "\n",
    "This notebook demonstrates the complete fraud detection pipeline covering all three tasks:\n",
    "1. Data Analysis and Preprocessing\n",
    "2. Model Building and Training\n",
    "3. Model Explainability"
   ]
  },
  {
   "cell_type": "code",
   "execution_count": null,
   "metadata": {},
   "outputs": [],
   "source": [
    "import sys\n",
    "sys.path.append('..')\n",
    "\n",
    "from src.complete_pipeline import CompleteFraudPipeline\n",
    "import pandas as pd\n",
    "import matplotlib.pyplot as plt\n",
    "import seaborn as sns\n",
    "\n",
    "# Set style\n",
    "plt.style.use('seaborn-v0_8')\n",
    "sns.set_palette(\"husl\")"
   ]
  },
  {
   "cell_type": "markdown",
   "metadata": {},
   "source": [
    "## Initialize Pipeline"
   ]
  },
  {
   "cell_type": "code",
   "execution_count": null,
   "metadata": {},
   "outputs": [],
   "source": [
    "pipeline = CompleteFraudPipeline()\n",
    "print(\"Pipeline initialized successfully\")"
   ]
  },
  {
   "cell_type": "markdown",
   "metadata": {},
   "source": [
    "## Task 1: Data Analysis and Preprocessing"
   ]
  },
  {
   "cell_type": "code",
   "execution_count": null,
   "metadata": {},
   "outputs": [],
   "source": [
    "# Run Task 1\n",
    "fraud_data, credit_data = pipeline.task1_data_analysis_preprocessing(\n",
    "    fraud_path='../data/raw/Fraud_Data.csv',\n",
    "    ip_path='../data/raw/IpAddress_to_Country.csv',\n",
    "    credit_path='../data/raw/creditcard.csv'\n",
    ")\n",
    "\n",
    "print(f\"Fraud data shape: {fraud_data.shape}\")\n",
    "print(f\"Credit data shape: {credit_data.shape}\")"
   ]
  },
  {
   "cell_type": "markdown",
   "metadata": {},
   "source": [
    "## Task 2: Model Building and Training"
   ]
  },
  {
   "cell_type": "code",
   "execution_count": null,
   "metadata": {},
   "outputs": [],
   "source": [
    "# Run Task 2\n",
    "fraud_results, credit_results = pipeline.task2_model_building_training()\n",
    "\n",
    "print(\"Model training completed!\")\n",
    "print(f\"Best fraud model: {max(fraud_results.keys(), key=lambda k: fraud_results[k]['auc_pr'])}\")\n",
    "print(f\"Best credit model: {max(credit_results.keys(), key=lambda k: credit_results[k]['auc_pr'])}\")"
   ]
  },
  {
   "cell_type": "markdown",
   "metadata": {},
   "source": [
    "## Task 3: Model Explainability"
   ]
  },
  {
   "cell_type": "code",
   "execution_count": null,
   "metadata": {},
   "outputs": [],
   "source": [
    "# Run Task 3\n",
    "pipeline.task3_model_explainability()\n",
    "print(\"Model explainability analysis completed!\")"
   ]
  },
  {
   "cell_type": "markdown",
   "metadata": {},
   "source": [
    "## Results Summary"
   ]
  },
  {
   "cell_type": "code",
   "execution_count": null,
   "metadata": {},
   "outputs": [],
   "source": [
    "# Display results summary\n",
    "for dataset, model_info in pipeline.best_models.items():\n",
    "    print(f\"\\n=== {dataset} Best Model Results ===\")\n",
    "    print(f\"AUC-ROC: {model_info['auc_roc']:.4f}\")\n",
    "    print(f\"AUC-PR: {model_info['auc_pr']:.4f}\")"
   ]
  }
 ],
 "metadata": {
  "kernelspec": {
   "display_name": "Python 3",
   "language": "python",
   "name": "python3"
  },
  "language_info": {
   "codemirror_mode": {
    "name": "ipython",
    "version": 3
   },
   "file_extension": ".py",
   "mimetype": "text/x-python",
   "name": "python",
   "nbconvert_exporter": "python",
   "pygments_lexer": "ipython3",
   "version": "3.8.0"
  }
 },
 "nbformat": 4,
 "nbformat_minor": 4
}