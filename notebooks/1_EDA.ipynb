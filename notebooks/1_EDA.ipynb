{
 "cells": [
  {
   "cell_type": "markdown",
   "metadata": {},
   "source": [
    "# Exploratory Data Analysis for Fraud Detection\n",
    "\n",
    "This notebook performs exploratory data analysis on the fraud detection datasets:\n",
    "1. Fraud_Data.csv - E-commerce transaction data\n",
    "2. IpAddress_to_Country.csv - IP to country mapping\n",
    "3. creditcard.csv - Bank transaction data"
   ]
  },
  {
   "cell_type": "code",
   "execution_count": null,
   "metadata": {},
   "source": [
    "import pandas as pd\n",
    "import numpy as np\n",
    "import matplotlib.pyplot as plt\n",
    "import seaborn as sns\n",
    "import sys\n",
    "import os\n",
    "\n",
    "# Add the src directory to the path\n",
    "sys.path.append(os.path.abspath('../src'))\n",
    "\n",
    "# Import custom EDA module\n",
    "from eda import (\n",
    "    load_datasets, display_basic_info, analyze_class_distribution,\n",
    "    plot_numerical_distributions, analyze_categorical_features,\n",
    "    analyze_time_patterns, analyze_correlation_matrix, analyze_ip_country_data\n",
    ")\n",
    "\n",
    "# Set plot style\n",
    "plt.style.use('seaborn-v0_8-whitegrid')\n",
    "sns.set_palette('viridis')\n",
    "\n",
    "# Display all columns\n",
    "pd.set_option('display.max_columns', None)"
   ]
  },
  {
   "cell_type": "markdown",
   "metadata": {},
   "source": [
    "## 1. Load the Datasets"
   ]
  },
  {
   "cell_type": "code",
   "execution_count": null,
   "metadata": {},
   "source": [
    "# Load the datasets using the function from eda.py\n",
    "fraud_data, ip_country, creditcard = load_datasets()"
   ]
  },
  {
   "cell_type": "markdown",
   "metadata": {},
   "source": [
    "## 2. Explore Fraud_Data.csv"
   ]
  },
  {
   "cell_type": "code",
   "execution_count": null,
   "metadata": {},
   "source": [
    "# Display basic information about Fraud_Data.csv\n",
    "display_basic_info(fraud_data, \"Fraud_Data.csv\")"
   ]
  },
  {
   "cell_type": "code",
   "execution_count": null,
   "metadata": {},
   "source": [
    "# Analyze class distribution\n",
    "analyze_class_distribution(fraud_data, class_col='class')"
   ]
  },
  {
   "cell_type": "code",
   "execution_count": null,
   "metadata": {},
   "source": [
    "# Plot numerical distributions\n",
    "numerical_cols = ['purchase_value', 'age']\n",
    "plot_numerical_distributions(fraud_data, numerical_cols, class_col='class')"
   ]
  },
  {
   "cell_type": "code",
   "execution_count": null,
   "metadata": {},
   "source": [
    "# Analyze categorical features\n",
    "categorical_cols = ['source', 'browser', 'sex']\n",
    "analyze_categorical_features(fraud_data, categorical_cols, class_col='class')"
   ]
  },
  {
   "cell_type": "code",
   "execution_count": null,
   "metadata": {},
   "source": [
    "# Analyze time patterns\n",
    "fraud_data = analyze_time_patterns(fraud_data)"
   ]
  },
  {
   "cell_type": "markdown",
   "metadata": {},
   "source": [
    "## 3. Explore IpAddress_to_Country.csv"
   ]
  },
  {
   "cell_type": "code",
   "execution_count": null,
   "metadata": {},
   "source": [
    "# Display basic information about IpAddress_to_Country.csv\n",
    "display_basic_info(ip_country, \"IpAddress_to_Country.csv\")"
   ]
  },
  {
   "cell_type": "code",
   "execution_count": null,
   "metadata": {},
   "source": [
    "# Analyze IP to country mapping data\n",
    "country_counts = analyze_ip_country_data(ip_country)"
   ]
  },
  {
   "cell_type": "markdown",
   "metadata": {},
   "source": [
    "## 4. Explore creditcard.csv"
   ]
  },
  {
   "cell_type": "code",
   "execution_count": null,
   "metadata": {},
   "source": [
    "# Display basic information about creditcard.csv\n",
    "display_basic_info(creditcard, \"creditcard.csv\")"
   ]
  },
  {
   "cell_type": "code",
   "execution_count": null,
   "metadata": {},
   "source": [
    "# Analyze class distribution\n",
    "analyze_class_distribution(creditcard, class_col='Class')"
   ]
  },
  {
   "cell_type": "code",
   "execution_count": null,
   "metadata": {},
   "source": [
    "# Plot numerical distributions\n",
    "cc_numerical_cols = ['Amount', 'Time']\n",
    "plot_numerical_distributions(creditcard, cc_numerical_cols, class_col='Class')"
   ]
  },
  {
   "cell_type": "code",
   "execution_count": null,
   "metadata": {},
   "source": [
    "# Analyze correlation matrix and feature importance\n",
    "target_corr = analyze_correlation_matrix(creditcard, target_col='Class')"
   ]
  },
  {
   "cell_type": "code",
   "execution_count": null,
   "metadata": {},
   "source": [
    "# Display top features by correlation with target\n",
    "print(\"Top 10 features positively correlated with fraud:\")\n",
    "display(target_corr.head(10))\n",
    "\n",
    "print(\"\\nTop 10 features negatively correlated with fraud:\")\n",
    "display(target_corr.tail(10))"
   ]
  },
  {
   "cell_type": "markdown",
   "metadata": {},
   "source": [
    "## 5. Summary of Findings\n",
    "\n",
    "### Fraud_Data.csv\n",
    "- [Add your findings here after running the analysis]\n",
    "\n",
    "### IpAddress_to_Country.csv\n",
    "- [Add your findings here after running the analysis]\n",
    "\n",
    "### creditcard.csv\n",
    "- [Add your findings here after running the analysis]"
   ]
  }
 ],
 "metadata": {
  "kernelspec": {
   "display_name": "Python 3",
   "language": "python",
   "name": "python3"
  },
  "language_info": {
   "codemirror_mode": {
    "name": "ipython",
    "version": 3
   },
   "file_extension": ".py",
   "mimetype": "text/x-python",
   "name": "python",
   "nbconvert_exporter": "python",
   "pygments_lexer": "ipython3",
   "version": "3.8.10"
  }
 },
 "nbformat": 4,
 "nbformat_minor": 4
}